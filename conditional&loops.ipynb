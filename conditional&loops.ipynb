{
 "cells": [
  {
   "cell_type": "code",
   "execution_count": null,
   "metadata": {},
   "outputs": [],
   "source": [
    "#Write a Python program to find those numbers which are divisible by 7 and multiples of 5, between 1500 and 2700 \n",
    "\n",
    "a = 1500\n",
    "b = 2700\n",
    "for i in range(a,b+1):\n",
    "    if(i%7==0 and i%5==0):\n",
    "        print(i)\n",
    "        "
   ]
  },
  {
   "cell_type": "code",
   "execution_count": null,
   "metadata": {},
   "outputs": [],
   "source": [
    "#Write a Python program to convert temperatures to and from Celsius and Fahrenheit.\n",
    "\n",
    "a = input('enter the temprature with unit(c/f)')\n",
    "print(a)\n",
    "b = int(a[0:-1])\n",
    "print(b)\n",
    "if(a[-1]=='f'):\n",
    "    c = (b-32)*(5/9)\n",
    "    print(f'{c} is the temprature in celsius')\n",
    "elif(a[-1]=='c'):\n",
    "    f = (b*(9/5))+32\n",
    "    print(f'{f} is the temprature in fahrenheit')\n",
    "else:\n",
    "    print('invalid text')"
   ]
  },
  {
   "cell_type": "code",
   "execution_count": null,
   "metadata": {},
   "outputs": [],
   "source": [
    "#3. Write a Python program to guess a number between 1 and 9.\n",
    "#Note : User is prompted to enter a guess. If the user guesses wrong then the prompt appears again until the guess is correct, on successful #guess, user will get a \"Well guessed!\" message, and the program will exit.\n",
    "\n",
    "import random\n",
    "print('lets start the game, have a winning')\n",
    "a = int(input('guess the number'))\n",
    "b = random.randrange(1,9)\n",
    "while(a!=b):\n",
    "    if a>b:\n",
    "        print('high')\n",
    "        a = int(input('guess the number'))\n",
    "    elif a<b:\n",
    "        print('low')\n",
    "        a = int(input('guess the number'))\n",
    "    else:\n",
    "       break\n",
    "x='hey!!! you guess is write'\n",
    "print(x.center(125))   "
   ]
  },
  {
   "cell_type": "code",
   "execution_count": null,
   "metadata": {},
   "outputs": [],
   "source": [
    "n = 5\n",
    "for i in range(n):                        # i=0   i=1    i=2      i=3        i=4\n",
    "    for j in range(i):                    # j=0   j=0,1  j=0,1,2  j=0,1,2,3  j =0,1,2,3,4\n",
    "        print('* ', end=\"\")\n",
    "    print('')\n",
    "\n",
    "for i in range(n, 0, -1):\n",
    "    for j in range(i):\n",
    "        print('* ', end=\"\")\n",
    "    print('') "
   ]
  },
  {
   "cell_type": "code",
   "execution_count": null,
   "metadata": {},
   "outputs": [],
   "source": [
    "#Write a Python program that accepts a word from the user and reverses it.\n",
    "\n",
    "a = input('enter any word:')\n",
    "print(f'old: {a}')\n",
    "for i in a:\n",
    "    b = a[-1::-1]\n",
    "print(f'new: {b}')"
   ]
  },
  {
   "cell_type": "code",
   "execution_count": null,
   "metadata": {},
   "outputs": [],
   "source": [
    "#Write a Python program to count the number of even and odd numbers in a series of numbers\n",
    "\n",
    "a = input('enter the number:')\n",
    "b = a.split(' ')\n",
    "c = list(map(int, b))\n",
    "print(c)\n",
    "counteven = 0\n",
    "countodd = 0\n",
    "for i in c:\n",
    "    if i%2==0:\n",
    "        counteven += 1\n",
    "    elif i%2==1:\n",
    "        countodd += 1\n",
    "    else:\n",
    "        print('invalid')\n",
    "print(f'even number: {counteven}')\n",
    "print(f'odd number: {countodd}')\n",
    "\n"
   ]
  },
  {
   "cell_type": "code",
   "execution_count": null,
   "metadata": {},
   "outputs": [],
   "source": [
    "# Write a Python program that prints each item and its corresponding type from the following list.\n",
    "#Sample List : datalist = [1452, 11.23, 1+2j, True, 'w3resource', (0, -1), [5, 12], {\"class\":'V', \"section\":'A'}]\n",
    "\n",
    "\n",
    "datalist = [1452, 11.23, 1+2j, True, 'w3resource', (0, -1), [5, 12], {\"class\":'V', \"section\":'A'}]\n",
    "for i in datalist:\n",
    "    print(f'type of',i,'is',type(i),end=\"\\n\")"
   ]
  },
  {
   "cell_type": "code",
   "execution_count": null,
   "metadata": {},
   "outputs": [],
   "source": [
    "#Write a Python program that prints all the numbers from 0 to 6 except 3 and 6.\n",
    "for i in range(6):\n",
    "    if (i==3 or i==6):\n",
    "        continue\n",
    "    else:\n",
    "        print(i)"
   ]
  },
  {
   "cell_type": "code",
   "execution_count": null,
   "metadata": {},
   "outputs": [],
   "source": [
    "#Write a Python program to get the Fibonacci series between 0 and 50.\n",
    "a,b =0,1\n",
    "for i in range(51):\n",
    "    if a>50:\n",
    "        break\n",
    "    print(f'{a},',end=\"\")\n",
    "    a,b=b,a+b"
   ]
  },
  {
   "cell_type": "code",
   "execution_count": 7,
   "metadata": {},
   "outputs": [
    {
     "name": "stdout",
     "output_type": "stream",
     "text": [
      "0 fizzbuzz\n",
      "1\n",
      "2\n",
      "3 fizz\n",
      "4\n",
      "5 buzz\n",
      "6 fizz\n",
      "7\n",
      "8\n",
      "9 fizz\n",
      "10 buzz\n",
      "11\n",
      "12 fizz\n",
      "13\n",
      "14\n",
      "15 fizzbuzz\n",
      "16\n",
      "17\n",
      "18 fizz\n",
      "19\n",
      "20 buzz\n",
      "21 fizz\n",
      "22\n",
      "23\n",
      "24 fizz\n",
      "25 buzz\n",
      "26\n",
      "27 fizz\n",
      "28\n",
      "29\n",
      "30 fizzbuzz\n",
      "31\n",
      "32\n",
      "33 fizz\n",
      "34\n",
      "35 buzz\n",
      "36 fizz\n",
      "37\n",
      "38\n",
      "39 fizz\n",
      "40 buzz\n",
      "41\n",
      "42 fizz\n",
      "43\n",
      "44\n",
      "45 fizzbuzz\n",
      "46\n",
      "47\n",
      "48 fizz\n",
      "49\n"
     ]
    }
   ],
   "source": [
    "#Write a Python program that iterates the integers from 1 to 50. For multiples of three print \"Fizz\" instead of the number and for multiples of five print \"Buzz\". For numbers that are multiples of three and five, print \"FizzBuzz\".\n",
    "for i in range(50):\n",
    "    if (i%3==0 and i%5==0):\n",
    "        print(f'{i} fizzbuzz')\n",
    "        continue\n",
    "    elif i%5==0:\n",
    "        print(f'{i} buzz')\n",
    "        continue\n",
    "    elif (i%3==0):\n",
    "        print(f'{i} fizz')\n",
    "        continue\n",
    "    else:\n",
    "        print(f'{i}')\n"
   ]
  },
  {
   "cell_type": "code",
   "execution_count": 5,
   "metadata": {},
   "outputs": [
    {
     "name": "stdout",
     "output_type": "stream",
     "text": [
      "YASH\n",
      "YASH\n",
      "YASH\n"
     ]
    }
   ],
   "source": [
    "#Write a Python program that takes two digits m (row) and n (column) as input and generates a two-dimensional array. The element value in the i-th row and j-th column of the array should be i*j."
   ]
  },
  {
   "cell_type": "code",
   "execution_count": 7,
   "metadata": {},
   "outputs": [
    {
     "name": "stdout",
     "output_type": "stream",
     "text": [
      "YYYYYY\n",
      "NNNN\n",
      "JNKJB\n",
      "JHBKJNLN\n"
     ]
    }
   ],
   "source": [
    "#Write a Python program that accepts a sequence of lines (blank line to terminate) as input and prints the lines as output (all characters in lower case).\n",
    "\n",
    "lines = []\n",
    "while True:\n",
    "    l =input()\n",
    "    if l:\n",
    "        lines.append(l.upper())\n",
    "    else:\n",
    "        break\n",
    "\n",
    "for l in lines:\n",
    "    print(l)\n"
   ]
  },
  {
   "cell_type": "code",
   "execution_count": 13,
   "metadata": {},
   "outputs": [
    {
     "name": "stdout",
     "output_type": "stream",
     "text": [
      "['1110', '0001']\n",
      "\n"
     ]
    }
   ],
   "source": [
    "#Write a Python program that accepts a sequence of comma separated 4 digit binary numbers as its input. The program will print the numbers that are divisible by 5 in a comma separated sequence.\n",
    "\n",
    "a = [x for x in (input('enter binary number')).split(',')]\n",
    "print(a)\n",
    "x=0\n",
    "item = []\n",
    "for p in a:\n",
    "    x = int(p,2)\n",
    "    if not x%5==0:\n",
    "        item.append(p)\n",
    "print(','.join(item))\n"
   ]
  },
  {
   "cell_type": "code",
   "execution_count": 4,
   "metadata": {},
   "outputs": [
    {
     "name": "stdout",
     "output_type": "stream",
     "text": [
      "alphabet count:0\n",
      "digit count:0\n"
     ]
    }
   ],
   "source": [
    "#Write a Python program that accepts a string and calculates the number of digits and letters.\n",
    "\n",
    "def identify(stg):\n",
    "    d,l =0,0\n",
    "    for c in stg:\n",
    "        if c.isdigit():\n",
    "            d += 1\n",
    "        elif c.isalpha():\n",
    "            l += 1\n",
    "    print(f'alphabet count:{l}')\n",
    "    print(f'digit count:{d}')\n",
    "\n",
    "a = input('enter data:')\n",
    "identify(a)\n"
   ]
  },
  {
   "cell_type": "code",
   "execution_count": null,
   "metadata": {},
   "outputs": [],
   "source": []
  },
  {
   "cell_type": "code",
   "execution_count": 8,
   "metadata": {},
   "outputs": [
    {
     "name": "stdout",
     "output_type": "stream",
     "text": [
      "invalid password\n"
     ]
    }
   ],
   "source": [
    "# Write a Python program to check the validity of passwords input by users.\n",
    "# Validation :\n",
    "\n",
    "# At least 1 letter between [a-z] and 1 letter between [A-Z].\n",
    "# At least 1 number between [0-9].\n",
    "# At least 1 character from [$#@].\n",
    "# Minimum length 6 characters.\n",
    "# Maximum length 16 characters.\n",
    "\n",
    "import re\n",
    "\n",
    "def pas(char):\n",
    "    if not (len(char)<12 and len(char)>6):\n",
    "        False\n",
    "    elif not re.search(r'[a-z]',char) and not re.search(r'[A-Z]',char) and not re.search(r'\\d',char):\n",
    "        False\n",
    "    elif not re.search(r'[$#@]',char):\n",
    "        False\n",
    "    True\n",
    "\n",
    "password = input('enter the password:')\n",
    "if pas(password):\n",
    "    print('valid password')\n",
    "else:\n",
    "    print('invalid password')"
   ]
  }
 ],
 "metadata": {
  "kernelspec": {
   "display_name": "Python 3",
   "language": "python",
   "name": "python3"
  },
  "language_info": {
   "codemirror_mode": {
    "name": "ipython",
    "version": 3
   },
   "file_extension": ".py",
   "mimetype": "text/x-python",
   "name": "python",
   "nbconvert_exporter": "python",
   "pygments_lexer": "ipython3",
   "version": "3.12.2"
  }
 },
 "nbformat": 4,
 "nbformat_minor": 2
}

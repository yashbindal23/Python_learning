{
 "cells": [
  {
   "cell_type": "code",
   "execution_count": null,
   "metadata": {},
   "outputs": [],
   "source": [
    "#Write a Python program to find those numbers which are divisible by 7 and multiples of 5, between 1500 and 2700 \n",
    "\n",
    "a = 1500\n",
    "b = 2700\n",
    "for i in range(a,b+1):\n",
    "    if(i%7==0 and i%5==0):\n",
    "        print(i)\n",
    "        "
   ]
  },
  {
   "cell_type": "code",
   "execution_count": null,
   "metadata": {},
   "outputs": [],
   "source": [
    "#Write a Python program to convert temperatures to and from Celsius and Fahrenheit.\n",
    "\n",
    "a = input('enter the temprature with unit(c/f)')\n",
    "print(a)\n",
    "b = int(a[0:-1])\n",
    "print(b)\n",
    "if(a[-1]=='f'):\n",
    "    c = (b-32)*(5/9)\n",
    "    print(f'{c} is the temprature in celsius')\n",
    "elif(a[-1]=='c'):\n",
    "    f = (b*(9/5))+32\n",
    "    print(f'{f} is the temprature in fahrenheit')\n",
    "else:\n",
    "    print('invalid text')"
   ]
  },
  {
   "cell_type": "code",
   "execution_count": null,
   "metadata": {},
   "outputs": [],
   "source": [
    "#3. Write a Python program to guess a number between 1 and 9.\n",
    "#Note : User is prompted to enter a guess. If the user guesses wrong then the prompt appears again until the guess is correct, on successful #guess, user will get a \"Well guessed!\" message, and the program will exit.\n",
    "\n",
    "import random\n",
    "print('lets start the game, have a winning')\n",
    "a = int(input('guess the number'))\n",
    "b = random.randrange(1,9)\n",
    "while(a!=b):\n",
    "    if a>b:\n",
    "        print('high')\n",
    "        a = int(input('guess the number'))\n",
    "    elif a<b:\n",
    "        print('low')\n",
    "        a = int(input('guess the number'))\n",
    "    else:\n",
    "       break\n",
    "x='hey!!! you guess is write'\n",
    "print(x.center(125))   "
   ]
  },
  {
   "cell_type": "code",
   "execution_count": null,
   "metadata": {},
   "outputs": [],
   "source": [
    "n = 5\n",
    "for i in range(n):                        # i=0   i=1    i=2      i=3        i=4\n",
    "    for j in range(i):                    # j=0   j=0,1  j=0,1,2  j=0,1,2,3  j =0,1,2,3,4\n",
    "        print('* ', end=\"\")\n",
    "    print('')\n",
    "\n",
    "for i in range(n, 0, -1):\n",
    "    for j in range(i):\n",
    "        print('* ', end=\"\")\n",
    "    print('') "
   ]
  },
  {
   "cell_type": "code",
   "execution_count": null,
   "metadata": {},
   "outputs": [],
   "source": [
    "#Write a Python program that accepts a word from the user and reverses it.\n",
    "\n",
    "a = input('enter any word:')\n",
    "print(f'old: {a}')\n",
    "for i in a:\n",
    "    b = a[-1::-1]\n",
    "print(f'new: {b}')"
   ]
  },
  {
   "cell_type": "code",
   "execution_count": null,
   "metadata": {},
   "outputs": [],
   "source": [
    "#Write a Python program to count the number of even and odd numbers in a series of numbers\n",
    "\n",
    "a = input('enter the number:')\n",
    "b = a.split(' ')\n",
    "c = list(map(int, b))\n",
    "print(c)\n",
    "counteven = 0\n",
    "countodd = 0\n",
    "for i in c:\n",
    "    if i%2==0:\n",
    "        counteven += 1\n",
    "    elif i%2==1:\n",
    "        countodd += 1\n",
    "    else:\n",
    "        print('invalid')\n",
    "print(f'even number: {counteven}')\n",
    "print(f'odd number: {countodd}')\n",
    "\n"
   ]
  },
  {
   "cell_type": "code",
   "execution_count": null,
   "metadata": {},
   "outputs": [],
   "source": [
    "# Write a Python program that prints each item and its corresponding type from the following list.\n",
    "#Sample List : datalist = [1452, 11.23, 1+2j, True, 'w3resource', (0, -1), [5, 12], {\"class\":'V', \"section\":'A'}]\n",
    "\n",
    "\n",
    "datalist = [1452, 11.23, 1+2j, True, 'w3resource', (0, -1), [5, 12], {\"class\":'V', \"section\":'A'}]\n",
    "for i in datalist:\n",
    "    print(f'type of',i,'is',type(i),end=\"\\n\")"
   ]
  },
  {
   "cell_type": "code",
   "execution_count": null,
   "metadata": {},
   "outputs": [],
   "source": [
    "#Write a Python program that prints all the numbers from 0 to 6 except 3 and 6.\n",
    "for i in range(6):\n",
    "    if (i==3 or i==6):\n",
    "        continue\n",
    "    else:\n",
    "        print(i)"
   ]
  },
  {
   "cell_type": "code",
   "execution_count": null,
   "metadata": {},
   "outputs": [],
   "source": [
    "#Write a Python program to get the Fibonacci series between 0 and 50.\n",
    "a,b =0,1\n",
    "for i in range(51):\n",
    "    if a>50:\n",
    "        break\n",
    "    print(f'{a},',end=\"\")\n",
    "    a,b=b,a+b"
   ]
  },
  {
   "cell_type": "code",
   "execution_count": null,
   "metadata": {},
   "outputs": [],
   "source": [
    "#Write a Python program that iterates the integers from 1 to 50. For multiples of three print \"Fizz\" instead of the number and for multiples of five print \"Buzz\". For numbers that are multiples of three and five, print \"FizzBuzz\".\n",
    "for i in range(50):\n",
    "    if (i%3==0 and i%5==0):\n",
    "        print(f'{i} fizzbuzz')\n",
    "        continue\n",
    "    elif i%5==0:\n",
    "        print(f'{i} buzz')\n",
    "        continue\n",
    "    elif (i%3==0):\n",
    "        print(f'{i} fizz')\n",
    "        continue\n",
    "    else:\n",
    "        print(f'{i}')\n"
   ]
  },
  {
   "cell_type": "code",
   "execution_count": null,
   "metadata": {},
   "outputs": [],
   "source": [
    "#Write a Python program that takes two digits m (row) and n (column) as input and generates a two-dimensional array. The element value in the i-th row and j-th column of the array should be i*j."
   ]
  },
  {
   "cell_type": "code",
   "execution_count": null,
   "metadata": {},
   "outputs": [],
   "source": [
    "#Write a Python program that accepts a sequence of lines (blank line to terminate) as input and prints the lines as output (all characters in lower case).\n",
    "\n",
    "lines = []\n",
    "while True:\n",
    "    l =input()\n",
    "    if l:\n",
    "        lines.append(l.upper())\n",
    "    else:\n",
    "        break\n",
    "\n",
    "for l in lines:\n",
    "    print(l)\n"
   ]
  },
  {
   "cell_type": "code",
   "execution_count": null,
   "metadata": {},
   "outputs": [],
   "source": [
    "#Write a Python program that accepts a sequence of comma separated 4 digit binary numbers as its input. The program will print the numbers that are divisible by 5 in a comma separated sequence.\n",
    "\n",
    "a = [x for x in (input('enter binary number')).split(',')]\n",
    "print(a)\n",
    "x=0\n",
    "item = []\n",
    "for p in a:\n",
    "    x = int(p,2)\n",
    "    if not x%5==0:\n",
    "        item.append(p)\n",
    "print(','.join(item))\n"
   ]
  },
  {
   "cell_type": "code",
   "execution_count": null,
   "metadata": {},
   "outputs": [],
   "source": [
    "#Write a Python program that accepts a string and calculates the number of digits and letters.\n",
    "\n",
    "def identify(stg):\n",
    "    d,l =0,0\n",
    "    for c in stg:\n",
    "        if c.isdigit():\n",
    "            d += 1\n",
    "        elif c.isalpha():\n",
    "            l += 1\n",
    "    print(f'alphabet count:{l}')\n",
    "    print(f'digit count:{d}')\n",
    "\n",
    "a = input('enter data:')\n",
    "identify(a)\n"
   ]
  },
  {
   "cell_type": "code",
   "execution_count": null,
   "metadata": {},
   "outputs": [],
   "source": [
    "# Write a Python program to check the validity of passwords input by users.\n",
    "# Validation :\n",
    "\n",
    "# At least 1 letter between [a-z] and 1 letter between [A-Z].\n",
    "# At least 1 number between [0-9].\n",
    "# At least 1 character from [$#@].\n",
    "# Minimum length 6 characters.\n",
    "# Maximum length 16 characters.\n",
    "\n",
    "import re\n",
    "\n",
    "def pas(char):\n",
    "    if not (len(char)<12):\n",
    "        print('long password')\n",
    "        return False\n",
    "    elif not (len(char)>6):\n",
    "        print('short password')\n",
    "        return False\n",
    "    elif not re.search(r'[a-z]',char):\n",
    "        print('need small alphabet')\n",
    "        return False\n",
    "    elif not re.search(r'[A-Z]',char):\n",
    "        print('need capital alphabet')\n",
    "        return False\n",
    "    elif not re.search(r'\\d',char):\n",
    "        print('need digit')\n",
    "        return False\n",
    "    elif not re.search(r'[$#@.]',char):\n",
    "        print('need special character')\n",
    "        return False\n",
    "    return True\n",
    "\n",
    "password = input('enter the password:')\n",
    "if pas(password):\n",
    "    print('valid password')\n",
    "else:\n",
    "    print('invalid password')"
   ]
  },
  {
   "cell_type": "code",
   "execution_count": 16,
   "metadata": {},
   "outputs": [
    {
     "name": "stdout",
     "output_type": "stream",
     "text": [
      "Numbers where each digit is even: 200,202,204,206,208,220,222,224,226,228,240,242,244,246,248,260,262,264,266,268,280,282,284,286,288,400,402,404,406,408,420,422,424,426,428,440,442,444,446,448,460,462,464,466,468,480,482,484,486,488,600,602,604,606,608,620,622,624,626,628,640,642,644,646,648,660,662,664,666,668,680,682,684,686,688,800,802,804,806,808,820,822,824,826,828,840,842,844,846,848,860,862,864,866,868,880,882,884,886,888\n"
     ]
    }
   ],
   "source": [
    "#Write a Python program to find numbers between 100 and 400 (both included) where each digit of a number is an even number. The numbers obtained should be printed in a comma-separated sequence.\n",
    "\n",
    "def is_all_digits_even(num):\n",
    "    return all(int(digit) % 2 == 0 for digit in str(num))\n",
    "\n",
    "def find_even_digit_numbers(start, end, num_digits):                                                      #doubt!!!!!!!!!!!!!!!!!!!!!!!!!!!!!\n",
    "    items = []\n",
    "    for i in range(start, end + 1):\n",
    "        if is_all_digits_even(i) and len(str(i)) == num_digits:\n",
    "            items.append(str(i))\n",
    "    return items\n",
    "\n",
    "start = int(input('Enter starting number: '))\n",
    "end = int(input('Enter ending number: '))\n",
    "num_digits = int(input('Enter number of digits: '))\n",
    "\n",
    "result = find_even_digit_numbers(start, end, num_digits)\n",
    "\n",
    "if result:\n",
    "    print(\"Numbers where each digit is even:\", \",\".join(result))\n",
    "else:\n",
    "    print(\"No numbers found with the specified criteria.\")"
   ]
  },
  {
   "cell_type": "code",
   "execution_count": 20,
   "metadata": {},
   "outputs": [
    {
     "name": "stdout",
     "output_type": "stream",
     "text": [
      "73.0 is the age in human years\n"
     ]
    }
   ],
   "source": [
    "#Write a Python program to calculate a dog's age in dog years.\n",
    "\n",
    "def dog_age(year):\n",
    "    age = 0\n",
    "    if year > 2:\n",
    "        age = ((year - 2) * 4) + (10.5 * 2)\n",
    "    elif year <= 2:\n",
    "        age = year * 10.5\n",
    "    else:\n",
    "        print('Invalid age')\n",
    "    return age\n",
    "\n",
    "# Convert input to integer\n",
    "a = int(input('Enter dog age: '))\n",
    "print(f'{dog_age(a)} is the age in human years')\n",
    "\n",
    "      "
   ]
  },
  {
   "cell_type": "code",
   "execution_count": 25,
   "metadata": {},
   "outputs": [
    {
     "name": "stdout",
     "output_type": "stream",
     "text": [
      "i is a vowel\n"
     ]
    }
   ],
   "source": [
    "# Write a Python program to check whether an alphabet is a vowel or consonant.\n",
    "\n",
    "import re\n",
    "\n",
    "def chek(alp):\n",
    "    if re.match(r'[aeiouAEIOU]',alp):\n",
    "        print(f'{alp} is a vowel')\n",
    "    else:\n",
    "        print(f'{alp} is consonent')\n",
    "        \n",
    "\n",
    "a = input('enter a alphabet:')\n",
    "chek(a)"
   ]
  },
  {
   "cell_type": "code",
   "execution_count": 28,
   "metadata": {},
   "outputs": [
    {
     "name": "stdout",
     "output_type": "stream",
     "text": [
      "february has 28\\29 days\n"
     ]
    }
   ],
   "source": [
    "#Write a Python program to convert a month name to a number of days.\n",
    "\n",
    "import re\n",
    "\n",
    "def month(name):\n",
    "    if re.match(r'[january,march,may,july,august,october,december]',name):\n",
    "        print(f'{name} have 31 days')\n",
    "    elif re.match(r'[april,june,september,november]',name):\n",
    "        print(f'{name} have 30 days')\n",
    "    elif re.match(r'[february]',name):\n",
    "        print(f'{name} has 28\\\\29 days')\n",
    "    else:\n",
    "        print('invalid')\n",
    "\n",
    "a = input('enter month name:')\n",
    "month(a)\n"
   ]
  },
  {
   "cell_type": "code",
   "execution_count": 33,
   "metadata": {},
   "outputs": [
    {
     "name": "stdout",
     "output_type": "stream",
     "text": [
      "20 is default\n"
     ]
    }
   ],
   "source": [
    "#Write a Python program to sum two integers. However, if the sum is between 15 and 20 it will return 20.\n",
    "\n",
    "def sum(num,num1):\n",
    "    a = num + num1\n",
    "    return a\n",
    "\n",
    "a = int(input('enter first number:'))\n",
    "b = int(input('enter second number:'))\n",
    "c = sum(a,b)\n",
    "\n",
    "if c <= 20 and c >= 15:\n",
    "    print('20 is default')\n",
    "else:\n",
    "    print(f'{c} is actual')"
   ]
  },
  {
   "cell_type": "code",
   "execution_count": 42,
   "metadata": {},
   "outputs": [
    {
     "name": "stdout",
     "output_type": "stream",
     "text": [
      "integer\n"
     ]
    }
   ],
   "source": [
    "#Write a Python program that checks whether a string represents an integer or not.\n",
    "import re\n",
    "\n",
    "def check(st):\n",
    "    for i in st:\n",
    "        if not re.search(r'[a-z]',st) and not re.search(r'[A-Z]',st):\n",
    "            return True\n",
    "        else:\n",
    "            return False\n",
    "\n",
    "a = str(input('enter input:'))\n",
    "if check(a) is True:\n",
    "    print('integer')\n",
    "else:\n",
    "    print('string')\n"
   ]
  },
  {
   "cell_type": "code",
   "execution_count": 46,
   "metadata": {},
   "outputs": [
    {
     "name": "stdout",
     "output_type": "stream",
     "text": [
      "traingle is isosceles\n"
     ]
    }
   ],
   "source": [
    "#Write a Python program to check if a triangle is equilateral, isosceles or scalene.\n",
    "\n",
    "def traingle(a,b,c):\n",
    "    if a == b == c:\n",
    "        print('triangle is equilateral')\n",
    "    elif a == b or b == c or c == a:\n",
    "        print('traingle is isosceles')\n",
    "    else:\n",
    "        print('traingle is scaler')\n",
    "\n",
    "a = int(input(f'enter 1st edge length:'))\n",
    "b = int(input(f'enter 2st edge length:'))\n",
    "c = int(input(f'enter 3st edge length:'))\n",
    "\n",
    "traingle(a,b,c)"
   ]
  },
  {
   "cell_type": "code",
   "execution_count": null,
   "metadata": {},
   "outputs": [],
   "source": []
  }
 ],
 "metadata": {
  "kernelspec": {
   "display_name": "Python 3",
   "language": "python",
   "name": "python3"
  },
  "language_info": {
   "codemirror_mode": {
    "name": "ipython",
    "version": 3
   },
   "file_extension": ".py",
   "mimetype": "text/x-python",
   "name": "python",
   "nbconvert_exporter": "python",
   "pygments_lexer": "ipython3",
   "version": "3.12.2"
  }
 },
 "nbformat": 4,
 "nbformat_minor": 2
}

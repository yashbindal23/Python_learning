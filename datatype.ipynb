{
 "cells": [
  {
   "cell_type": "code",
   "execution_count": null,
   "metadata": {},
   "outputs": [],
   "source": [
    "print('welcome to the code playground')"
   ]
  },
  {
   "cell_type": "code",
   "execution_count": null,
   "metadata": {},
   "outputs": [],
   "source": [
    "print(\"Twinkle, twinkle, little star, \\n\\tHow I wonder what you are! \\n\\t\\tUp above the world so high, \\n\\t\\tLike a diamond in the sky. \\nTwinkle, twinkle, little star, \\n\\tHow I wonder what you are!\")\n"
   ]
  },
  {
   "cell_type": "code",
   "execution_count": null,
   "metadata": {},
   "outputs": [],
   "source": [
    "import sys\n",
    "print('python version\\n',sys.version)\n",
    "print('system info\\n',sys.version_info)"
   ]
  },
  {
   "cell_type": "code",
   "execution_count": null,
   "metadata": {},
   "outputs": [],
   "source": [
    "import datetime\n",
    "now = datetime.datetime.now()\n",
    "print(now.strftime(\"%H:%M:%S\"))\n",
    "print(now.strftime(\"%d-%m-%y\"))\n"
   ]
  },
  {
   "cell_type": "code",
   "execution_count": null,
   "metadata": {},
   "outputs": [],
   "source": [
    "r = int(input('enter the radius of circle:'))\n",
    "area = (3.14)*r*r\n",
    "print('area of circle is',area)"
   ]
  },
  {
   "cell_type": "code",
   "execution_count": null,
   "metadata": {},
   "outputs": [],
   "source": [
    "fname = str(input('enter your first name'))\n",
    "lname = str(input('enter your last name'))\n",
    "print('hello',lname,fname)"
   ]
  },
  {
   "cell_type": "code",
   "execution_count": null,
   "metadata": {},
   "outputs": [],
   "source": [
    "values = input('enter some values')\n",
    "list = values.split(\",\")\n",
    "tuple = values.split(\",\")\n",
    "print(\"list:\",list)\n",
    "print(\"tuple:\",tuple)"
   ]
  },
  {
   "cell_type": "markdown",
   "metadata": {},
   "source": [
    "STRING"
   ]
  },
  {
   "cell_type": "code",
   "execution_count": null,
   "metadata": {},
   "outputs": [],
   "source": [
    "a = input('enter any word')\n",
    "b = len(a)\n",
    "print(f'input entered:{a}\\nlength of input:{b}')\n",
    "\n",
    "#method2\n",
    "a = input('enter the sentence:')\n",
    "print(a)\n",
    "b = 0\n",
    "for i in a:\n",
    "    b += 1\n",
    "print(b)"
   ]
  },
  {
   "cell_type": "code",
   "execution_count": null,
   "metadata": {},
   "outputs": [],
   "source": [
    "#Write a Python program to count the number of characters (character frequency) in a string.\n",
    "\n",
    "def len(a):\n",
    "    l = list(a)\n",
    "    y = [l.count(ele) for ele in l]\n",
    "    d = dict(zip(l,y))\n",
    "    print(a)\n",
    "    print(d)\n",
    "\n",
    "x = input('enter string:')\n",
    "len(x)\n",
    "\n"
   ]
  },
  {
   "cell_type": "code",
   "execution_count": null,
   "metadata": {},
   "outputs": [],
   "source": [
    "#Write a Python program to get a string made of the first 2 and last 2 characters of a given string. If the string length is less than 2, return the empty string instead.\n",
    "\n",
    "def str_operation(a):\n",
    "    if len(a) > 1:\n",
    "        o = a[0:2] + a[-2:] \n",
    "        print(o)\n",
    "    else:\n",
    "        return 'empty string'\n",
    "\n",
    "user_input = input('Enter a string: ')\n",
    "str_operation(user_input)"
   ]
  },
  {
   "cell_type": "code",
   "execution_count": null,
   "metadata": {},
   "outputs": [],
   "source": [
    "#Write a Python program to get a string from a given string where all occurrences of its first char have been changed to '$', except the first char itself.\n",
    "\n",
    "def change(a):\n",
    "    x = a[0]\n",
    "    y = a[0] + a[1:].replace(x,'$') \n",
    "    return y\n",
    "\n",
    "m = input('enter a string:')\n",
    "result = change(m)\n",
    "print(result)"
   ]
  },
  {
   "cell_type": "code",
   "execution_count": null,
   "metadata": {},
   "outputs": [],
   "source": [
    "#Write a Python program to get a single string from two given strings, separated by a space and swap the first two characters of each string.\n",
    "\n",
    "def swap(a,b):\n",
    "    new_a = b[0:2] + a[2:]\n",
    "    new_b = a[0:2] + b[2:]\n",
    "    return new_a + ' ' + new_b\n",
    "\n",
    "a = swap('xyz','abc')\n",
    "print(a)\n",
    "\n",
    "\n"
   ]
  },
  {
   "cell_type": "code",
   "execution_count": null,
   "metadata": {},
   "outputs": [],
   "source": [
    "#Write a Python program to add 'ing' at the end of a given string (length should be at least 3). If the given string already ends with 'ing', add 'ly' instead. If the string length of the given string is less than 3, leave it unchanged.\n",
    "\n",
    "def str(a):\n",
    "    if len(a)>2:\n",
    "        if a[-3:] != 'ing':\n",
    "            a = a + 'ing'\n",
    "        else:\n",
    "            a = a + 'ly'\n",
    "    return a\n",
    "\n",
    "a = input('enter string:')\n",
    "result = str(a)\n",
    "print(result)"
   ]
  },
  {
   "cell_type": "code",
   "execution_count": 32,
   "metadata": {},
   "outputs": [
    {
     "name": "stdout",
     "output_type": "stream",
     "text": [
      "yash is good student\n"
     ]
    }
   ],
   "source": [
    "#Write a Python program to find the first appearance of the substrings 'not' and 'poor' in a given string. If 'not' follows 'poor', replace the whole 'not'...'poor' substring with 'good'. Return the resulting string.\n",
    "\n",
    "def modify(a):\n",
    "    snot = a.find('not')\n",
    "    spoor = a.find('poor')\n",
    "    if snot<spoor and snot>0 and spoor>0:\n",
    "        a = a.replace(a[snot:(spoor+4)],'good')\n",
    "    return a\n",
    "\n",
    "a = input('enter string:')\n",
    "result = modify(a)\n",
    "print(result)\n"
   ]
  },
  {
   "cell_type": "code",
   "execution_count": null,
   "metadata": {},
   "outputs": [],
   "source": [
    "#Write a Python function that takes a list of words and return the longest word and the length of the longest one.\n",
    "\n"
   ]
  }
 ],
 "metadata": {
  "kernelspec": {
   "display_name": "Python 3",
   "language": "python",
   "name": "python3"
  },
  "language_info": {
   "codemirror_mode": {
    "name": "ipython",
    "version": 3
   },
   "file_extension": ".py",
   "mimetype": "text/x-python",
   "name": "python",
   "nbconvert_exporter": "python",
   "pygments_lexer": "ipython3",
   "version": "3.12.2"
  }
 },
 "nbformat": 4,
 "nbformat_minor": 2
}

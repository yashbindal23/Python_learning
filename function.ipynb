{
 "cells": [
  {
   "cell_type": "code",
   "execution_count": null,
   "metadata": {},
   "outputs": [],
   "source": [
    "#Write a Python function to find the maximum of three numbers.\n",
    "\n",
    "def max(a,b,c):\n",
    "    if (a>b and a>c):\n",
    "        print('a is max')\n",
    "    elif (b>a and b>c):\n",
    "        print('b is max')\n",
    "    elif (c>a and c>b):\n",
    "        print('c is max')\n",
    "    else:\n",
    "        print('invalid')\n",
    "\n",
    "max(4,5,2)\n",
    "\n",
    "\n"
   ]
  },
  {
   "cell_type": "code",
   "execution_count": null,
   "metadata": {},
   "outputs": [],
   "source": [
    "#Write a Python function to sum all the numbers in a list.\n",
    "\n",
    "def sum(num):\n",
    "    total = 0\n",
    "    for i in num:\n",
    "        total += i\n",
    "    return total\n",
    "\n",
    "sum((1,2))\n"
   ]
  },
  {
   "cell_type": "code",
   "execution_count": null,
   "metadata": {},
   "outputs": [],
   "source": [
    "#Write a  Python function to multiply all the numbers in a list.\n",
    "\n",
    "def mul(num):\n",
    "    x = 1\n",
    "    for i in num:\n",
    "        x *= i\n",
    "    return x\n",
    "mul((1,2,3))"
   ]
  },
  {
   "cell_type": "code",
   "execution_count": null,
   "metadata": {},
   "outputs": [],
   "source": [
    "#Write a Python program to reverse a string.\n",
    "\n",
    "def rev(num):\n",
    "    x = 0\n",
    "    for i in num:\n",
    "        x = num[-1::-1]\n",
    "    return x\n",
    "rev((\"11badsnfidjoijsd\"))"
   ]
  },
  {
   "cell_type": "code",
   "execution_count": null,
   "metadata": {},
   "outputs": [],
   "source": [
    "#Write a Python function to calculate the factorial of a number (a non-negative integer). The function accepts the number as an argument.\n",
    "\n",
    "def fact(num):\n",
    "    if num == 0:\n",
    "        return 1\n",
    "    else:\n",
    "        return num*fact(num-1)       \n",
    "    \n",
    "a = int(input('enter a number:'))\n",
    "fact((a))\n"
   ]
  },
  {
   "cell_type": "code",
   "execution_count": null,
   "metadata": {},
   "outputs": [],
   "source": [
    "#Write a  Python function to check whether a number falls within a given range.\n",
    "\n",
    "def fall(num):\n",
    "    a = 0\n",
    "    range = [1,3,24,5,323,4532,223,33]\n",
    "    for i in range:\n",
    "        if i == num:\n",
    "            a =  'true'\n",
    "            break\n",
    "        else:\n",
    "            a = 'false'\n",
    "            \n",
    "    if a == 'true':\n",
    "        print(f'{num} is in the range')\n",
    "    elif a == 'false':\n",
    "        print(f'{num} is not in the range')\n",
    "\n",
    "c = int(input('enter the number:'))\n",
    "fall((c))"
   ]
  },
  {
   "cell_type": "code",
   "execution_count": null,
   "metadata": {},
   "outputs": [],
   "source": [
    "#Write a Python function that accepts a string and counts the number of upper and lower case letters\n",
    "\n",
    "def count(str):\n",
    "    d = {\"upper\":0 , \"lower\":0}\n",
    "    for i in str:\n",
    "        if i.isupper():\n",
    "            d[\"upper\"] += 1\n",
    "        elif i.islower():\n",
    "            d[\"lower\"] += 1\n",
    "        else:\n",
    "            pass\n",
    "    print(d)\n",
    "\n",
    "x = input('enter statement:')\n",
    "print(x)\n",
    "count((x))"
   ]
  },
  {
   "cell_type": "code",
   "execution_count": null,
   "metadata": {},
   "outputs": [],
   "source": [
    "#Write a  Python function that takes a list and returns a new list with distinct elements from the first list.\n",
    "\n",
    "def dist(num):\n",
    "    x = [ ]\n",
    "    for i in num:\n",
    "        if i not in x:\n",
    "            x.append(i)\n",
    "    return x\n",
    "\n",
    "print(dist([1,2,4,34,23,3,3,3,3,4,5,6,7]))\n"
   ]
  },
  {
   "cell_type": "code",
   "execution_count": null,
   "metadata": {},
   "outputs": [],
   "source": [
    "# Write a Python function that takes a number as a parameter and checks whether the number is prime or not.\n",
    "\n",
    "def prime(num):\n",
    "    a=0\n",
    "    if num <= 1:\n",
    "        a = 'false'\n",
    "    else:\n",
    "        a = 'true'\n",
    "        for i in range(2,int(num**0.5)+1):\n",
    "            if (num%i==0):\n",
    "                a = 'false'\n",
    "                break\n",
    "\n",
    "    if a == 'false':\n",
    "        print(f'{num} is composite')\n",
    "    elif a == 'true':\n",
    "        print(f'{num} is prime')\n",
    "    else:\n",
    "        print(f'{num} is nor prime nor composite')\n",
    "\n",
    "b = int(input('enter the number:'))\n",
    "prime(b)"
   ]
  },
  {
   "cell_type": "code",
   "execution_count": null,
   "metadata": {},
   "outputs": [],
   "source": [
    "# Write a  Python program to print the even numbers from a given list.\n",
    "\n",
    "def even(num):\n",
    "    a = []\n",
    "    for i in num:\n",
    "        if i%2==0:\n",
    "            a.append(i)\n",
    "    \n",
    "    print(a)\n",
    "\n",
    "b = [int(x) for x in input('enter elements:').split()]\n",
    "print(b)\n",
    "even(b)"
   ]
  },
  {
   "cell_type": "code",
   "execution_count": null,
   "metadata": {},
   "outputs": [],
   "source": [
    "#Write a  Python function to check whether a number is \"Perfect\" or not.\n",
    "\n",
    "def pft(num):\n",
    "    c=0\n",
    "    for i in range(1,num-1):\n",
    "        if num%i==0:\n",
    "            c += i\n",
    "    return c  \n",
    "      \n",
    "\n",
    "b = int(input('enter number:'))\n",
    "print(b)\n",
    "if pft(b) == b:\n",
    "    print('perfect number')\n",
    "else:\n",
    "    print('not a perfect number')\n",
    "    "
   ]
  },
  {
   "cell_type": "code",
   "execution_count": null,
   "metadata": {},
   "outputs": [],
   "source": [
    "#Write a  Python function that checks whether a passed string is a palindrome or not.\n",
    "\n",
    "def pld(word):\n",
    "    a = 0\n",
    "    for i in word:\n",
    "        a = word[-1::-1]\n",
    "    return a\n",
    "\n",
    "b = input('enter word:') \n",
    "print(b)\n",
    "if pld(b) == b:\n",
    "    print(f'{pld(b)} is pld ')\n",
    "else:\n",
    "    print(f'{pld(b)} is not pld ')\n",
    "          "
   ]
  },
  {
   "cell_type": "code",
   "execution_count": null,
   "metadata": {},
   "outputs": [],
   "source": [
    "#Write a  Python function that prints out the first n rows of Pascal's triangle.\n",
    "\n",
    "def pas(row):\n",
    "    result=[]\n",
    "    for i in range(row):\n",
    "        row = [1]*(i+1)\n",
    "        for j in range(1,len(row)-1):\n",
    "            row[j]=result[i-1][j-1] + result[i-1][j]\n",
    "        result.append(row)\n",
    "    return result\n",
    "\n",
    "a = int(input('enter row:'))\n",
    "traingle = pas(a)\n",
    "\n",
    "for row in traingle:\n",
    "    print(row)\n"
   ]
  }
 ],
 "metadata": {
  "kernelspec": {
   "display_name": "Python 3",
   "language": "python",
   "name": "python3"
  },
  "language_info": {
   "codemirror_mode": {
    "name": "ipython",
    "version": 3
   },
   "file_extension": ".py",
   "mimetype": "text/x-python",
   "name": "python",
   "nbconvert_exporter": "python",
   "pygments_lexer": "ipython3",
   "version": "3.12.2"
  }
 },
 "nbformat": 4,
 "nbformat_minor": 2
}

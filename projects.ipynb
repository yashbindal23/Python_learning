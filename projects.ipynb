{
 "cells": [
  {
   "cell_type": "code",
   "execution_count": 1,
   "metadata": {},
   "outputs": [
    {
     "name": "stdout",
     "output_type": "stream",
     "text": [
      "12\n",
      "8\n",
      "20\n",
      "5.0\n",
      "5\n",
      "100\n",
      "0\n"
     ]
    }
   ],
   "source": [
    "#basic calculator\n",
    "a = 10\n",
    "b = 2\n",
    "print(a+b)\n",
    "print(a-b)\n",
    "print(a*b)\n",
    "print(a/b)\n",
    "print(a//b)\n",
    "print(a**b)\n",
    "print(a%b)"
   ]
  },
  {
   "cell_type": "code",
   "execution_count": 4,
   "metadata": {},
   "outputs": [
    {
     "name": "stdout",
     "output_type": "stream",
     "text": [
      "good morning\n",
      "10:12:15\n"
     ]
    }
   ],
   "source": [
    "#wisher\n",
    "import time\n",
    "samay = time.strftime('%H:%M:%S')\n",
    "hrs = int(time.strftime('%H'))\n",
    "if (hrs<12 and hrs>=0):\n",
    "    print('good morning')\n",
    "elif(hrs>=12 and hrs<5):\n",
    "    print('good afternoon')\n",
    "else:\n",
    "    print('good night')\n",
    "print(samay)\n"
   ]
  },
  {
   "cell_type": "code",
   "execution_count": 3,
   "metadata": {},
   "outputs": [
    {
     "data": {
      "text/plain": [
       "'capricorn'"
      ]
     },
     "execution_count": 3,
     "metadata": {},
     "output_type": "execute_result"
    }
   ],
   "source": [
    "#astrological sign \n",
    "\n",
    "def cal(a,b):\n",
    "    if b == 'december':\n",
    "        sign = 'sagittarius' if a < 22 else 'capricorn'\n",
    "    elif b == 'january':\n",
    "        sign = 'capricorn' if a < 20 else 'aquarius'\n",
    "    elif b == 'february':\n",
    "        sign = 'aquarius' if a < 19 else 'pisces'\n",
    "    elif b == 'march':\n",
    "        sign = 'pisces' if a < 21 else 'aries'\n",
    "    elif b == 'april':\n",
    "        sign = 'aries' if a < 20 else 'taurus'\n",
    "    elif b == 'may':\n",
    "        sign = 'taurus' if a < 21 else 'gemini'\n",
    "    elif b == 'june':\n",
    "        sign = 'gemini' if a < 21 else 'cancer'\n",
    "    elif b == 'july':\n",
    "        sign = 'cancer' if a < 23 else 'leo'\n",
    "    elif b == 'august':\n",
    "        sign = 'leo' if a < 23 else 'virgo'\n",
    "    elif b == 'september':\n",
    "        sign = 'virgo' if a < 23 else 'libra'\n",
    "    elif b == 'october':\n",
    "        sign = 'libra' if a < 23 else 'scorpio'\n",
    "    elif b == 'november':\n",
    "        sign = 'scorpio' if a < 22 else 'sagittarius'\n",
    "    else:\n",
    "        print('invalid!!')\n",
    "    return sign\n",
    "\n",
    "a = int(input('enter date:'))\n",
    "b = str(input('enter month:'))\n",
    "\n",
    "cal(a,b)"
   ]
  }
 ],
 "metadata": {
  "kernelspec": {
   "display_name": "Python 3",
   "language": "python",
   "name": "python3"
  },
  "language_info": {
   "codemirror_mode": {
    "name": "ipython",
    "version": 3
   },
   "file_extension": ".py",
   "mimetype": "text/x-python",
   "name": "python",
   "nbconvert_exporter": "python",
   "pygments_lexer": "ipython3",
   "version": "3.12.2"
  }
 },
 "nbformat": 4,
 "nbformat_minor": 2
}

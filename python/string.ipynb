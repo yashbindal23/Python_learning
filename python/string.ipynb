{
 "cells": [
  {
   "cell_type": "code",
   "execution_count": null,
   "metadata": {},
   "outputs": [],
   "source": [
    "print('welcome to the code playground')"
   ]
  },
  {
   "cell_type": "code",
   "execution_count": null,
   "metadata": {},
   "outputs": [],
   "source": [
    "print(\"Twinkle, twinkle, little star, \\n\\tHow I wonder what you are! \\n\\t\\tUp above the world so high, \\n\\t\\tLike a diamond in the sky. \\nTwinkle, twinkle, little star, \\n\\tHow I wonder what you are!\")\n"
   ]
  },
  {
   "cell_type": "code",
   "execution_count": null,
   "metadata": {},
   "outputs": [],
   "source": [
    "import sys\n",
    "print('python version\\n',sys.version)\n",
    "print('system info\\n',sys.version_info)"
   ]
  },
  {
   "cell_type": "code",
   "execution_count": null,
   "metadata": {},
   "outputs": [],
   "source": [
    "fname = str(input('enter your first name'))\n",
    "lname = str(input('enter your last name'))\n",
    "print('hello',lname,fname)"
   ]
  },
  {
   "cell_type": "code",
   "execution_count": null,
   "metadata": {},
   "outputs": [],
   "source": [
    "a = input('enter any word')\n",
    "b = len(a)\n",
    "print(f'input entered:{a}\\nlength of input:{b}')\n",
    "\n",
    "#method2\n",
    "a = input('enter the sentence:')\n",
    "print(a)\n",
    "b = 0\n",
    "for i in a:\n",
    "    b += 1\n",
    "print(b)"
   ]
  },
  {
   "cell_type": "code",
   "execution_count": null,
   "metadata": {},
   "outputs": [],
   "source": [
    "#Write a Python program to count the number of characters (character frequency) in a string.\n",
    "\n",
    "def len(a):\n",
    "    l = list(a)\n",
    "    y = [l.count(ele) for ele in l]\n",
    "    d = dict(zip(l,y))\n",
    "    print(a)\n",
    "    print(d)\n",
    "\n",
    "x = input('enter string:')\n",
    "len(x)\n",
    "\n"
   ]
  },
  {
   "cell_type": "code",
   "execution_count": null,
   "metadata": {},
   "outputs": [],
   "source": [
    "#Write a Python program to get a string made of the first 2 and last 2 characters of a given string. If the string length is less than 2, return the empty string instead.\n",
    "\n",
    "def str_operation(a):\n",
    "    if len(a) > 1:\n",
    "        o = a[0:2] + a[-2:] \n",
    "        print(o)\n",
    "    else:\n",
    "        return 'empty string'\n",
    "\n",
    "user_input = input('Enter a string: ')\n",
    "str_operation(user_input)"
   ]
  },
  {
   "cell_type": "code",
   "execution_count": null,
   "metadata": {},
   "outputs": [],
   "source": [
    "#Write a Python program to get a string from a given string where all occurrences of its first char have been changed to '$', except the first char itself.\n",
    "\n",
    "def change(a):\n",
    "    x = a[0]\n",
    "    y = a[0] + a[1:].replace(x,'$') \n",
    "    return y\n",
    "\n",
    "m = input('enter a string:')\n",
    "result = change(m)\n",
    "print(result)"
   ]
  },
  {
   "cell_type": "code",
   "execution_count": null,
   "metadata": {},
   "outputs": [],
   "source": [
    "#Write a Python program to get a single string from two given strings, separated by a space and swap the first two characters of each string.\n",
    "\n",
    "def swap(a,b):\n",
    "    new_a = b[0:2] + a[2:]\n",
    "    new_b = a[0:2] + b[2:]\n",
    "    return new_a + ' ' + new_b\n",
    "\n",
    "a = swap('xyz','abc')\n",
    "print(a)\n",
    "\n",
    "\n"
   ]
  },
  {
   "cell_type": "code",
   "execution_count": null,
   "metadata": {},
   "outputs": [],
   "source": [
    "#Write a Python program to add 'ing' at the end of a given string (length should be at least 3). If the given string already ends with 'ing', add 'ly' instead. If the string length of the given string is less than 3, leave it unchanged.\n",
    "\n",
    "def str(a):\n",
    "    if len(a)>2:\n",
    "        if a[-3:] != 'ing':\n",
    "            a = a + 'ing'\n",
    "        else:\n",
    "            a = a + 'ly'\n",
    "    return a\n",
    "\n",
    "a = input('enter string:')\n",
    "result = str(a)\n",
    "print(result)"
   ]
  },
  {
   "cell_type": "code",
   "execution_count": null,
   "metadata": {},
   "outputs": [],
   "source": [
    "#Write a Python program to find the first appearance of the substrings 'not' and 'poor' in a given string. If 'not' follows 'poor', replace the whole 'not'...'poor' substring with 'good'. Return the resulting string.\n",
    "\n",
    "def modify(a):\n",
    "    snot = a.find('not')\n",
    "    spoor = a.find('poor')\n",
    "    if snot<spoor and snot>0 and spoor>0:\n",
    "        a = a.replace(a[snot:(spoor+4)],'good')\n",
    "    return a\n",
    "\n",
    "a = input('enter string:')\n",
    "result = modify(a)\n",
    "print(result)\n"
   ]
  },
  {
   "cell_type": "code",
   "execution_count": null,
   "metadata": {},
   "outputs": [],
   "source": [
    "#Write a Python function that takes a list of words and return the longest word and the length of the longest one.\n",
    "\n",
    "def long(lst):\n",
    "    word = []\n",
    "    for i in lst:\n",
    "        word.append((len(i),i))\n",
    "    word.sort()\n",
    "    return word[-1][0],word[-1][1]\n",
    "\n",
    "a = input('enter list:')\n",
    "lst = a.split(' ')\n",
    "print(f'og:{lst}')\n",
    "result = long(lst)\n",
    "print('\\nlongest word:',result[1])\n",
    "print('\\nlength of longest word:',result[0])"
   ]
  },
  {
   "cell_type": "code",
   "execution_count": null,
   "metadata": {},
   "outputs": [],
   "source": [
    "#Write a Python program to remove the nth index character from a nonempty string.\n",
    "\n",
    "def remove(x):\n",
    "    if len(x)>1:\n",
    "        a = int(input('enter the index number to remove character:'))\n",
    "        b = x[a]\n",
    "    return x.replace(b,'',1)\n",
    "\n",
    "a = input('enter string:')\n",
    "result = remove(a)\n",
    "print(result)"
   ]
  },
  {
   "cell_type": "code",
   "execution_count": null,
   "metadata": {},
   "outputs": [],
   "source": [
    "#Write a Python program to change a given string to a newly string where the first and last chars have been exchanged\n",
    "\n",
    "def modify(a):\n",
    "    b = a[-1]\n",
    "    c = a[0]\n",
    "    return b + a[1:-1] + c\n",
    "\n",
    "a = input('enter string:')\n",
    "result = modify(a)\n",
    "print(result)\n"
   ]
  },
  {
   "cell_type": "code",
   "execution_count": null,
   "metadata": {},
   "outputs": [],
   "source": [
    "#Write a Python program to remove characters that have odd index values in a given string.\n",
    "\n",
    "def modify(a):\n",
    "    return a[0] + a[1::2]\n",
    "\n",
    "a = input('enter string:')\n",
    "print(a)\n",
    "result = modify(a)\n",
    "print(result)"
   ]
  },
  {
   "cell_type": "code",
   "execution_count": null,
   "metadata": {},
   "outputs": [],
   "source": [
    "#Write a Python program to count the occurrences of each word in a given sentence.\n",
    "\n",
    "def modify(a):\n",
    "    count = dict()\n",
    "    words = a.split()\n",
    "    for word in words:\n",
    "        if word in count:\n",
    "            count[word] += 1\n",
    "        else:\n",
    "            count[word] = 1\n",
    "    return count\n",
    "\n",
    "a = input('enter string:')\n",
    "print(a)\n",
    "result = modify(a)\n",
    "print(result)\n",
    "\n"
   ]
  },
  {
   "cell_type": "code",
   "execution_count": null,
   "metadata": {},
   "outputs": [],
   "source": [
    "#Write a Python script that takes input from the user and displays that input back in upper and lower cases.\n",
    "\n",
    "def modify(s):\n",
    "    print(s.upper())\n",
    "    print(s.lower())\n",
    "\n",
    "a = input('enter string:')\n",
    "print(a)\n",
    "result = modify(a)\n",
    "\n"
   ]
  },
  {
   "cell_type": "code",
   "execution_count": null,
   "metadata": {},
   "outputs": [],
   "source": [
    "#Write a Python program that accepts a comma-separated sequence of words as input and prints the distinct words in sorted form (alphanumerically)\n",
    "\n",
    "def modify(s):\n",
    "    words = [word for word in s.split(',')]\n",
    "    return sorted(list(set(words)))\n",
    "\n",
    "a = input('enter string:')\n",
    "print(a)\n",
    "result = modify(a)\n",
    "print(','.join(result))"
   ]
  },
  {
   "cell_type": "code",
   "execution_count": null,
   "metadata": {},
   "outputs": [],
   "source": [
    "#Write a Python function to create an HTML string with tags around the word(s).\n",
    "\n",
    "def htm(s,t):\n",
    "    a = print(f'<{t}>{s}</{t}>')\n",
    "    return a\n",
    "\n",
    "htm('yash','i')"
   ]
  },
  {
   "cell_type": "code",
   "execution_count": null,
   "metadata": {},
   "outputs": [],
   "source": [
    "#Write a Python function to insert a string in the middle of a string.\n",
    "\n",
    "def insert(t,s):\n",
    "    return t[:2] + s + t[2:]\n",
    "\n",
    "insert('[{}]','python')"
   ]
  },
  {
   "cell_type": "code",
   "execution_count": null,
   "metadata": {},
   "outputs": [],
   "source": [
    "#Write a Python function to get a string made of 4 copies of the last two characters of a specified string (length must be at least 2).\n",
    "\n",
    "def modify(s):\n",
    "    if len(s)>1:\n",
    "        return 4*s[-2:]\n",
    "    \n",
    "modify('yash')"
   ]
  },
  {
   "cell_type": "code",
   "execution_count": null,
   "metadata": {},
   "outputs": [],
   "source": [
    "#Write a Python function to get a string made of the first three characters of a specified string. If the length of the string is less than 3, return the original string.\n",
    "\n",
    "def modify(s):\n",
    "    if len(s)>2:\n",
    "        return s[0:3]\n",
    "    return s\n",
    "    \n",
    "modify('yash')"
   ]
  },
  {
   "cell_type": "code",
   "execution_count": null,
   "metadata": {},
   "outputs": [],
   "source": [
    "#Write a Python program to get the last part of a string before a specified character.\n",
    "\n",
    "def modify(s):\n",
    "    print(s.rsplit('/',1)[0])\n",
    "    print(s.rsplit('-',1)[0])\n",
    "\n",
    "modify('https://chat.openai.com/c/d7be8256-48ef-4443-9c0e-4dcc8f8c7598')"
   ]
  },
  {
   "cell_type": "code",
   "execution_count": null,
   "metadata": {},
   "outputs": [],
   "source": [
    "#Write a Python function to reverse a string if its length is a multiple of 4.\n",
    "\n",
    "def modify(a):\n",
    "    if len(a)%4==0:\n",
    "        return a[-1::-1]\n",
    "    return a\n",
    "\n",
    "modify('yash]')"
   ]
  },
  {
   "cell_type": "code",
   "execution_count": null,
   "metadata": {},
   "outputs": [],
   "source": [
    "# Write a Python function to convert a given string to all uppercase if it contains at least 2 uppercase characters in the first 4 characters.\n",
    "\n",
    "def modify(s):\n",
    "    upper = sum(1 for char in s[0:4] if char.isupper())\n",
    "    if upper >=2:\n",
    "        return s.upper()\n",
    "    \n",
    "\n",
    "modify('YasH bindal')"
   ]
  },
  {
   "cell_type": "code",
   "execution_count": null,
   "metadata": {},
   "outputs": [],
   "source": [
    "#Write a Python program to sort a string lexicographically.\n",
    "\n",
    "def modify(s):\n",
    "    return sorted(sorted(s),key=str.upper)\n",
    "    # return sorted(s)\n",
    "\n",
    "modify('yaSh23')"
   ]
  },
  {
   "cell_type": "code",
   "execution_count": null,
   "metadata": {},
   "outputs": [],
   "source": [
    "#Write a Python program to remove a newline in Python\n",
    "\n",
    "s = 'python\\n'\n",
    "print(s)\n",
    "print(s.rstrip())\n"
   ]
  },
  {
   "cell_type": "code",
   "execution_count": null,
   "metadata": {},
   "outputs": [],
   "source": [
    "#Write a Python program to check whether a string starts with specified characters.\n",
    "\n",
    "def check(a):\n",
    "    a.startswith('-')\n",
    "    return True\n",
    "\n",
    "check('+yash')"
   ]
  },
  {
   "cell_type": "code",
   "execution_count": null,
   "metadata": {},
   "outputs": [],
   "source": [
    "#Write a Python program to create a Caesar encryption\n",
    "\n",
    "def encrypt(a,b):\n",
    "    out_text = []\n",
    "    upper = ['a', 'b', 'c', 'd', 'e', 'f', 'g', 'h', 'i', 'j', 'k', 'l', 'm', 'n', 'o', 'p', 'q', 'r', 's', 't', 'u', 'v', 'w', 'x', 'y', 'z']\n",
    "    lower = ['A', 'B', 'C', 'D', 'E', 'F', 'G', 'H', 'I', 'J', 'K', 'L', 'M', 'N', 'O', 'P', 'Q', 'R', 'S', 'T', 'U', 'V', 'W', 'X', 'Y', 'Z']\n",
    "    c = list(a)\n",
    "    for i in c:\n",
    "        if i in upper:\n",
    "            index = upper.index(i)\n",
    "            crypt = (index + b) % 26\n",
    "            out_text.append(upper[crypt]) \n",
    "        elif i in lower:\n",
    "            index = lower.index(i)\n",
    "            crypt = (index + b) % 26\n",
    "            out_text.append(lower[crypt]) \n",
    "    return out_text\n",
    "\n",
    "encrypt('xyz',3)"
   ]
  },
  {
   "cell_type": "code",
   "execution_count": null,
   "metadata": {},
   "outputs": [],
   "source": [
    "#Write a Python program to display formatted text (width=50) as output.\n",
    "\n",
    "import textwrap\n",
    "\n",
    "sample_text = '''Python is a widely used high-level, general-purpose, interpreted,\n",
    "  dynamic programming language. Its design philosophy emphasizes\n",
    "  code readability, and its syntax allows programmers to express\n",
    "  concepts in fewer lines of code than possible in languages such\n",
    "  as C++ or Java.'''\n",
    "print(sample_text)\n",
    "print(textwrap.fill(sample_text,width = 50))"
   ]
  },
  {
   "cell_type": "code",
   "execution_count": null,
   "metadata": {},
   "outputs": [],
   "source": [
    "#Write a Python program to remove existing indentation from all of the lines in a given text.\n",
    "\n",
    "import textwrap\n",
    "\n",
    "sample_text = '''\n",
    "  Python is a widely used high-level, general-purpose, interpreted,\n",
    "  dynamic programming language. Its design philosophy emphasizes\n",
    "  code readability, and its syntax allows programmers to express\n",
    "  concepts in fewer lines of code than possible in languages such\n",
    "  as C++ or Java.\n",
    "  '''\n",
    "print(sample_text)\n",
    "print(textwrap.dedent(sample_text))"
   ]
  },
  {
   "cell_type": "code",
   "execution_count": null,
   "metadata": {},
   "outputs": [],
   "source": [
    "#Write a Python program to add prefix text to all of the lines in a string.\n",
    "\n",
    "import textwrap as tw\n",
    "\n",
    "def modify(text,prefix):\n",
    "    lines = text.split('\\n')\n",
    "    prefix_line = [prefix + line for line in lines]\n",
    "    # return (prefix_line)\n",
    "    return '\\n'.join(prefix_line)\n",
    "\n",
    "sample_text = 'line 1 is good\\nline 2 is average\\nline 3 is bad'\n",
    "prefix = '>> '\n",
    "result = modify(sample_text,prefix)\n",
    "print(result)"
   ]
  },
  {
   "cell_type": "code",
   "execution_count": null,
   "metadata": {},
   "outputs": [],
   "source": [
    "# Write a Python program to set the indentation of the first line.\n",
    "\n",
    "import textwrap\n",
    "\n",
    "sample_text = '''\n",
    "  Python is a widely used high-level, general-purpose, interpreted,\n",
    "  dynamic programming language. Its design philosophy emphasizes\n",
    "  code readability, and its syntax allows programmers to express\n",
    "  concepts in fewer lines of code than possible in languages such\n",
    "  as C++ or Java.\n",
    "  '''\n",
    "\n",
    "print(sample_text)\n",
    "text = textwrap.dedent(sample_text).strip()\n",
    "print(textwrap.fill(text,initial_indent='>>',subsequent_indent=' '*4,width=50))"
   ]
  },
  {
   "cell_type": "code",
   "execution_count": null,
   "metadata": {},
   "outputs": [],
   "source": [
    "#Write a Python program to print the following numbers up to 2 decimal places.\n",
    "x = 3.14234542\n",
    "print(x)\n",
    "print(\"Formatted Number: {:.2f}\".format(x))"
   ]
  },
  {
   "cell_type": "code",
   "execution_count": null,
   "metadata": {},
   "outputs": [],
   "source": [
    "#Write a Python program to print the following numbers up to 2 decimal places with a sign.\n",
    "x = +33.11351\n",
    "print(x)\n",
    "print('formatted: {:+.2f}'.format(x))"
   ]
  },
  {
   "cell_type": "code",
   "execution_count": null,
   "metadata": {},
   "outputs": [],
   "source": [
    "# Write a Python program to print the following positive and negative numbers with no decimal places.\n",
    "\n",
    "x = +33.2344\n",
    "print(x)\n",
    "print(f'formated: {x:+.0f}')"
   ]
  },
  {
   "cell_type": "code",
   "execution_count": null,
   "metadata": {},
   "outputs": [],
   "source": [
    "#Write a Python program to print the following integers with zeros to the left of the specified width\n",
    "\n",
    "x = 123\n",
    "print(x)\n",
    "print(f'formated:{x:0>4d}')"
   ]
  },
  {
   "cell_type": "code",
   "execution_count": null,
   "metadata": {},
   "outputs": [],
   "source": [
    "#Write a Python program to print the following integers with '*' to the right of the specified width.\n",
    "\n",
    "x = 123\n",
    "print(x)\n",
    "print(f'formated:{x:*<4d}')"
   ]
  },
  {
   "cell_type": "code",
   "execution_count": null,
   "metadata": {},
   "outputs": [],
   "source": [
    "#Write a Python program to display a number with a comma separator.\n",
    "\n",
    "x = 900000\n",
    "print(x)\n",
    "print(f'formated:{x:,}')"
   ]
  },
  {
   "cell_type": "code",
   "execution_count": null,
   "metadata": {},
   "outputs": [],
   "source": [
    "#Write a Python program to format a number with a percentage.\n",
    "\n",
    "x = -0.25\n",
    "print(x)\n",
    "print(f'formated:{x:-.2%}')"
   ]
  },
  {
   "cell_type": "code",
   "execution_count": null,
   "metadata": {},
   "outputs": [],
   "source": [
    "#Write a Python program to display a number in left, right, and center aligned with a width of 10.\n",
    "\n",
    "x = 123\n",
    "print(x)\n",
    "print(f'formated:{x:0<10d}')\n",
    "print(f'formated:{x:0>10d}')\n",
    "print(f'formated:{x:0^10d}')\n"
   ]
  },
  {
   "cell_type": "code",
   "execution_count": null,
   "metadata": {},
   "outputs": [],
   "source": [
    "#Write a Python program to count occurrences of a substring in a string.\n",
    "\n",
    "s = 'hi i love to play in code playground'\n",
    "print(s.count('i'))"
   ]
  },
  {
   "cell_type": "code",
   "execution_count": null,
   "metadata": {},
   "outputs": [],
   "source": [
    "#Write a Python program to reverse a string.\n",
    "\n",
    "s = 'hi i love to play in code playground'\n",
    "print(s[-1::-1])"
   ]
  },
  {
   "cell_type": "code",
   "execution_count": null,
   "metadata": {},
   "outputs": [],
   "source": [
    "#Write a Python program to reverse words in a string.\n",
    "\n",
    "def reverse(s):\n",
    "    a = s.split()\n",
    "    word = a[::-1]\n",
    "    rev = ' '.join(word)\n",
    "    return rev\n",
    "\n",
    "s = 'hi i love to play in code playground'\n",
    "reverse(s)"
   ]
  },
  {
   "cell_type": "code",
   "execution_count": null,
   "metadata": {},
   "outputs": [],
   "source": [
    "#Write a Python program to strip a set of characters from a string.\n",
    "\n",
    "def strip(x,s):\n",
    "    result =''\n",
    "    for i in x:\n",
    "        if i not in s:\n",
    "            result += i\n",
    "    return result\n",
    "\n",
    "x = 'hi i love to play in code playground'\n",
    "s = [\"a\",\"e\",'i','o',\"u\"]\n",
    "strip(x,s)"
   ]
  },
  {
   "cell_type": "code",
   "execution_count": null,
   "metadata": {},
   "outputs": [],
   "source": [
    "#Write a Python program to count repeated characters in a string.\n",
    "\n",
    "def count(s):\n",
    "    count = 0\n",
    "    for i in s:\n",
    "        count =+ 1                    #doubt jndfnfvnjnsoifernssoubt soubt doubt doubt doubt\n",
    "    return count\n",
    "\n",
    "x = 'hi i love to play in code playground'     \n",
    "count(x)"
   ]
  },
  {
   "cell_type": "code",
   "execution_count": null,
   "metadata": {},
   "outputs": [],
   "source": [
    "#Write a Python program to print the square and cube symbols in the area of a rectangle and the volume of a cylinder.\n",
    "\n",
    "area = 1256.31\n",
    "print(f'area: {area:.2f}cm\\u00b3')\n"
   ]
  },
  {
   "cell_type": "code",
   "execution_count": null,
   "metadata": {},
   "outputs": [],
   "source": [
    "#Write a Python program to print the index of a character in a string.\n",
    "\n",
    "x = 'hi i love to play in code playground' \n",
    "for index,i in enumerate(x):\n",
    "    print(f'{i}:{index}')"
   ]
  },
  {
   "cell_type": "code",
   "execution_count": null,
   "metadata": {},
   "outputs": [],
   "source": [
    "#Write a Python program to check whether a string contains all letters of the alphabet.\n",
    "\n",
    "import string\n",
    "x = 'The quick brown fox jumps over the lazy dog' \n",
    "alpha = set(string.ascii_lowercase)\n",
    "\n",
    "print((set(x)) >= alpha)\n"
   ]
  },
  {
   "cell_type": "code",
   "execution_count": null,
   "metadata": {},
   "outputs": [],
   "source": [
    "#Write a Python program to convert a given string into a list of words\n",
    "\n",
    "x = 'The quick brown fox jumps over the lazy dog' \n",
    "z = x.split()\n",
    "print(z)"
   ]
  },
  {
   "cell_type": "code",
   "execution_count": null,
   "metadata": {},
   "outputs": [],
   "source": [
    "#Write a Python program to lowercase the first n characters in a string.\n",
    "\n",
    "x = 'The quick brown fox jumps over the lazy dog' \n",
    "y = 5\n",
    "z = x[0:y].upper() + x[y:]\n",
    "print(z)"
   ]
  },
  {
   "cell_type": "code",
   "execution_count": null,
   "metadata": {},
   "outputs": [],
   "source": [
    "#Write a Python program to swap commas and dots in a string.\n",
    "\n"
   ]
  },
  {
   "cell_type": "code",
   "execution_count": null,
   "metadata": {},
   "outputs": [],
   "source": [
    "#Write a Python program to count and display vowels in text\n",
    "\n",
    "def count(a,b):\n",
    "    sum = 0\n",
    "    for i in a:\n",
    "        if i in b:\n",
    "            sum += 1\n",
    "            print(i,end=' ')\n",
    "    print(sum,)\n",
    "\n",
    "x = 'The quick brown fox jumps over the lazy dog' \n",
    "y = ['a','e','i','o','u']\n",
    "count(x,y)"
   ]
  },
  {
   "cell_type": "code",
   "execution_count": null,
   "metadata": {},
   "outputs": [],
   "source": [
    "#Write a Python program to split a string on the last occurrence of the delimiter.\n",
    "\n",
    "x = 'y,a,s,h'\n",
    "y = 2\n",
    "print(x.rsplit(',',y))"
   ]
  },
  {
   "cell_type": "code",
   "execution_count": null,
   "metadata": {},
   "outputs": [],
   "source": [
    "#Write a Python program to find the first non-repeating character in a given string.\n",
    "\n",
    "def rep(x):\n",
    "    for i in x:\n",
    "        if x.count(i) < 2:\n",
    "            print(i)\n",
    "            break\n",
    "\n",
    "rep('yaaysh')"
   ]
  },
  {
   "cell_type": "code",
   "execution_count": null,
   "metadata": {},
   "outputs": [],
   "source": [
    "#Write a Python program to print all permutations with a given repetition number of characters of a given string.\n",
    "\n",
    "from itertools import permutations\n",
    "\n",
    "def perm(x,r):\n",
    "    per = permutations(x,r)\n",
    "\n",
    "    for p in per:\n",
    "        print(''.join(p))          #doubt\n",
    "\n",
    "perm('abc',3)\n"
   ]
  },
  {
   "cell_type": "code",
   "execution_count": null,
   "metadata": {},
   "outputs": [],
   "source": [
    "#Write a Python program to find the first repeated character in a given string.\n",
    "\n",
    "def rep(x):\n",
    "    for i in x:\n",
    "        if x.count(i) > 1:\n",
    "            print(i)\n",
    "            break\n",
    "\n",
    "rep('yaaysh')\n"
   ]
  },
  {
   "cell_type": "code",
   "execution_count": null,
   "metadata": {},
   "outputs": [],
   "source": [
    "#Write a Python program to find the first repeated character in a given string where the index of the first occurrence is smallest.\n",
    "\n",
    "def rep(x):\n",
    "    for i in x:\n",
    "        y = x.count(i)\n",
    "        if y > 1:\n",
    "            print(i)\n",
    "            print(x.index(i))\n",
    "            break\n",
    "\n",
    "rep('yaaysh')"
   ]
  },
  {
   "cell_type": "code",
   "execution_count": null,
   "metadata": {},
   "outputs": [],
   "source": [
    "#Write a Python program to find the first repeated word in a given string.\n",
    "\n",
    "def rep(z):\n",
    "    x = z.split(' ')\n",
    "    for i in x:\n",
    "        y = x.count(i)\n",
    "        if y > 1:\n",
    "            print(i)\n",
    "            print(x.index(i))\n",
    "            break\n",
    "\n",
    "rep('yash is yash is a good')"
   ]
  },
  {
   "cell_type": "code",
   "execution_count": null,
   "metadata": {},
   "outputs": [],
   "source": [
    "#Write a Python program to find the second most repeated word in a given string.\n",
    "\n",
    "def counts(z):\n",
    "    x = z.split()\n",
    "    count = dict()\n",
    "    for i in x:\n",
    "        if i in count:\n",
    "            count[i] += 1\n",
    "        else:\n",
    "            count[i] = 1\n",
    "    count_x = sorted(count.items(),key=lambda kv:kv[1])\n",
    "    return count_x[-2]\n",
    "\n",
    "counts('The quick brown fox jumps over the lazy dog' )"
   ]
  },
  {
   "cell_type": "code",
   "execution_count": null,
   "metadata": {},
   "outputs": [],
   "source": [
    "#Write a Python program to remove spaces from a given string.\n",
    "\n",
    "x = 'The quick brown fox jumps over the lazy dog' \n",
    "x.replace(' ','')"
   ]
  },
  {
   "cell_type": "code",
   "execution_count": null,
   "metadata": {},
   "outputs": [],
   "source": [
    "#Write a Python program to move spaces to the front of a given string.\n",
    "\n",
    "x = '           The quick brown fox jumps               over the lazy dog            ' \n",
    "z = x.split()\n",
    "(' ').join(z)"
   ]
  },
  {
   "cell_type": "code",
   "execution_count": 206,
   "metadata": {},
   "outputs": [
    {
     "name": "stdout",
     "output_type": "stream",
     "text": [
      "(' ', 8)\n"
     ]
    }
   ],
   "source": [
    "#Write a Python program to find the maximum number of characters in a given string.\n",
    "\n",
    "y = 'The quick brown fox jumps over the lazy dog'\n",
    "count = dict()\n",
    "for i in y:\n",
    "    if i in count:\n",
    "        count[i] += 1\n",
    "    else:                                  #fvnjglbgnbsjnl\n",
    "        count[i] = 1\n",
    "\n",
    "count_x = sorted(count.items(), key=lambda kv: kv[1])\n",
    "print(count_x[-1])"
   ]
  },
  {
   "cell_type": "code",
   "execution_count": 212,
   "metadata": {},
   "outputs": [
    {
     "name": "stdout",
     "output_type": "stream",
     "text": [
      "ThE QuicK BrowN FoX JumpS OveR ThE LazY DoG "
     ]
    }
   ],
   "source": [
    "#Write a Python program to capitalize the first and last letters of each word in a given string.\n",
    "\n",
    "y = 'The quick brown fox jumps over the lazy dog'\n",
    "z = y.split()\n",
    "for i in z:\n",
    "    x = i[0].upper() + i[1:-1] + i[-1].upper()\n",
    "    print(('').join(x),end=' ')"
   ]
  },
  {
   "cell_type": "code",
   "execution_count": 223,
   "metadata": {},
   "outputs": [
    {
     "name": "stdout",
     "output_type": "stream",
     "text": [
      "The quick brown fx jmps v t lazy dg\n"
     ]
    }
   ],
   "source": [
    "#Write a Python program to remove duplicate characters from a given string.\n",
    "\n",
    "y = 'The quick brown fox jumps over the lazy dog'\n",
    "u = ''\n",
    "for i in y:\n",
    "    if i == ' ' or i not in u  :\n",
    "        u += i \n",
    "        \n",
    "print(u)"
   ]
  },
  {
   "cell_type": "code",
   "execution_count": 230,
   "metadata": {},
   "outputs": [
    {
     "data": {
      "text/plain": [
       "5"
      ]
     },
     "execution_count": 230,
     "metadata": {},
     "output_type": "execute_result"
    }
   ],
   "source": [
    "#Write a Python program to compute the sum of the digits in a given string.\n",
    "\n",
    "def sum(x):\n",
    "    sum_digit = 0\n",
    "    for i in x:\n",
    "        if i.isdigit():\n",
    "            digit = int(i)\n",
    "            sum_digit += digit\n",
    "    return sum_digit\n",
    "\n",
    "sum('dsv23jkfk')"
   ]
  },
  {
   "cell_type": "code",
   "execution_count": 233,
   "metadata": {},
   "outputs": [
    {
     "ename": "ValueError",
     "evalue": "invalid literal for int() with base 10: '192.001.01.1'",
     "output_type": "error",
     "traceback": [
      "\u001b[1;31m---------------------------------------------------------------------------\u001b[0m",
      "\u001b[1;31mValueError\u001b[0m                                Traceback (most recent call last)",
      "Cell \u001b[1;32mIn[233], line 8\u001b[0m\n\u001b[0;32m      5\u001b[0m     \u001b[38;5;28;01mreturn\u001b[39;00m n\n\u001b[0;32m      7\u001b[0m x \u001b[38;5;241m=\u001b[39m \u001b[38;5;124m'\u001b[39m\u001b[38;5;124m192.001.01.1\u001b[39m\u001b[38;5;124m'\u001b[39m\n\u001b[1;32m----> 8\u001b[0m \u001b[43mrem\u001b[49m\u001b[43m(\u001b[49m\u001b[43mx\u001b[49m\u001b[43m)\u001b[49m\n",
      "Cell \u001b[1;32mIn[233], line 4\u001b[0m, in \u001b[0;36mrem\u001b[1;34m(x)\u001b[0m\n\u001b[0;32m      3\u001b[0m \u001b[38;5;28;01mdef\u001b[39;00m \u001b[38;5;21mrem\u001b[39m(x):\n\u001b[1;32m----> 4\u001b[0m     n \u001b[38;5;241m=\u001b[39m \u001b[38;5;124m'\u001b[39m\u001b[38;5;124m.\u001b[39m\u001b[38;5;124m'\u001b[39m\u001b[38;5;241m.\u001b[39mjoin([\u001b[38;5;28mstr\u001b[39m(\u001b[38;5;28;43mint\u001b[39;49m\u001b[43m(\u001b[49m\u001b[43mx\u001b[49m\u001b[43m)\u001b[49m) \u001b[38;5;28;01mfor\u001b[39;00m i \u001b[38;5;129;01min\u001b[39;00m x\u001b[38;5;241m.\u001b[39msplit(\u001b[38;5;124m'\u001b[39m\u001b[38;5;124m.\u001b[39m\u001b[38;5;124m'\u001b[39m)])\n\u001b[0;32m      5\u001b[0m     \u001b[38;5;28;01mreturn\u001b[39;00m n\n",
      "\u001b[1;31mValueError\u001b[0m: invalid literal for int() with base 10: '192.001.01.1'"
     ]
    }
   ],
   "source": [
    "#Write a Python program to remove leading zeros from an IP address.\n",
    "\n",
    "def rem(x):\n",
    "    n = '.'.join([str(int(x)) for i in x.split('.')])\n",
    "    return n\n",
    "\n",
    "x = '192.001.01.1'\n",
    "rem(x)"
   ]
  }
 ],
 "metadata": {
  "kernelspec": {
   "display_name": "Python 3",
   "language": "python",
   "name": "python3"
  },
  "language_info": {
   "codemirror_mode": {
    "name": "ipython",
    "version": 3
   },
   "file_extension": ".py",
   "mimetype": "text/x-python",
   "name": "python",
   "nbconvert_exporter": "python",
   "pygments_lexer": "ipython3",
   "version": "3.12.2"
  }
 },
 "nbformat": 4,
 "nbformat_minor": 2
}

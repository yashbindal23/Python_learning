{
 "cells": [
  {
   "cell_type": "code",
   "execution_count": null,
   "metadata": {},
   "outputs": [],
   "source": [
    "print('welcome to the code playground')"
   ]
  },
  {
   "cell_type": "code",
   "execution_count": null,
   "metadata": {},
   "outputs": [],
   "source": [
    "print(\"Twinkle, twinkle, little star, \\n\\tHow I wonder what you are! \\n\\t\\tUp above the world so high, \\n\\t\\tLike a diamond in the sky. \\nTwinkle, twinkle, little star, \\n\\tHow I wonder what you are!\")\n"
   ]
  },
  {
   "cell_type": "code",
   "execution_count": null,
   "metadata": {},
   "outputs": [],
   "source": [
    "import sys\n",
    "print('python version\\n',sys.version)\n",
    "print('system info\\n',sys.version_info)"
   ]
  },
  {
   "cell_type": "code",
   "execution_count": null,
   "metadata": {},
   "outputs": [],
   "source": [
    "fname = str(input('enter your first name'))\n",
    "lname = str(input('enter your last name'))\n",
    "print('hello',lname,fname)"
   ]
  },
  {
   "cell_type": "code",
   "execution_count": null,
   "metadata": {},
   "outputs": [],
   "source": [
    "a = input('enter any word')\n",
    "b = len(a)\n",
    "print(f'input entered:{a}\\nlength of input:{b}')\n",
    "\n",
    "#method2\n",
    "a = input('enter the sentence:')\n",
    "print(a)\n",
    "b = 0\n",
    "for i in a:\n",
    "    b += 1\n",
    "print(b)"
   ]
  },
  {
   "cell_type": "code",
   "execution_count": null,
   "metadata": {},
   "outputs": [],
   "source": [
    "#Write a Python program to count the number of characters (character frequency) in a string.\n",
    "\n",
    "def len(a):\n",
    "    l = list(a)\n",
    "    y = [l.count(ele) for ele in l]\n",
    "    d = dict(zip(l,y))\n",
    "    print(a)\n",
    "    print(d)\n",
    "\n",
    "x = input('enter string:')\n",
    "len(x)\n",
    "\n"
   ]
  },
  {
   "cell_type": "code",
   "execution_count": null,
   "metadata": {},
   "outputs": [],
   "source": [
    "#Write a Python program to get a string made of the first 2 and last 2 characters of a given string. If the string length is less than 2, return the empty string instead.\n",
    "\n",
    "def str_operation(a):\n",
    "    if len(a) > 1:\n",
    "        o = a[0:2] + a[-2:] \n",
    "        print(o)\n",
    "    else:\n",
    "        return 'empty string'\n",
    "\n",
    "user_input = input('Enter a string: ')\n",
    "str_operation(user_input)"
   ]
  },
  {
   "cell_type": "code",
   "execution_count": null,
   "metadata": {},
   "outputs": [],
   "source": [
    "#Write a Python program to get a string from a given string where all occurrences of its first char have been changed to '$', except the first char itself.\n",
    "\n",
    "def change(a):\n",
    "    x = a[0]\n",
    "    y = a[0] + a[1:].replace(x,'$') \n",
    "    return y\n",
    "\n",
    "m = input('enter a string:')\n",
    "result = change(m)\n",
    "print(result)"
   ]
  },
  {
   "cell_type": "code",
   "execution_count": null,
   "metadata": {},
   "outputs": [],
   "source": [
    "#Write a Python program to get a single string from two given strings, separated by a space and swap the first two characters of each string.\n",
    "\n",
    "def swap(a,b):\n",
    "    new_a = b[0:2] + a[2:]\n",
    "    new_b = a[0:2] + b[2:]\n",
    "    return new_a + ' ' + new_b\n",
    "\n",
    "a = swap('xyz','abc')\n",
    "print(a)\n",
    "\n",
    "\n"
   ]
  },
  {
   "cell_type": "code",
   "execution_count": null,
   "metadata": {},
   "outputs": [],
   "source": [
    "#Write a Python program to add 'ing' at the end of a given string (length should be at least 3). If the given string already ends with 'ing', add 'ly' instead. If the string length of the given string is less than 3, leave it unchanged.\n",
    "\n",
    "def str(a):\n",
    "    if len(a)>2:\n",
    "        if a[-3:] != 'ing':\n",
    "            a = a + 'ing'\n",
    "        else:\n",
    "            a = a + 'ly'\n",
    "    return a\n",
    "\n",
    "a = input('enter string:')\n",
    "result = str(a)\n",
    "print(result)"
   ]
  },
  {
   "cell_type": "code",
   "execution_count": null,
   "metadata": {},
   "outputs": [],
   "source": [
    "#Write a Python program to find the first appearance of the substrings 'not' and 'poor' in a given string. If 'not' follows 'poor', replace the whole 'not'...'poor' substring with 'good'. Return the resulting string.\n",
    "\n",
    "def modify(a):\n",
    "    snot = a.find('not')\n",
    "    spoor = a.find('poor')\n",
    "    if snot<spoor and snot>0 and spoor>0:\n",
    "        a = a.replace(a[snot:(spoor+4)],'good')\n",
    "    return a\n",
    "\n",
    "a = input('enter string:')\n",
    "result = modify(a)\n",
    "print(result)\n"
   ]
  },
  {
   "cell_type": "code",
   "execution_count": null,
   "metadata": {},
   "outputs": [],
   "source": [
    "#Write a Python function that takes a list of words and return the longest word and the length of the longest one.\n",
    "\n",
    "def long(lst):\n",
    "    word = []\n",
    "    for i in lst:\n",
    "        word.append((len(i),i))\n",
    "    word.sort()\n",
    "    return word[-1][0],word[-1][1]\n",
    "\n",
    "a = input('enter list:')\n",
    "lst = a.split(' ')\n",
    "print(f'og:{lst}')\n",
    "result = long(lst)\n",
    "print('\\nlongest word:',result[1])\n",
    "print('\\nlength of longest word:',result[0])"
   ]
  },
  {
   "cell_type": "code",
   "execution_count": null,
   "metadata": {},
   "outputs": [],
   "source": [
    "#Write a Python program to remove the nth index character from a nonempty string.\n",
    "\n",
    "def remove(x):\n",
    "    if len(x)>1:\n",
    "        a = int(input('enter the index number to remove character:'))\n",
    "        b = x[a]\n",
    "    return x.replace(b,'',1)\n",
    "\n",
    "a = input('enter string:')\n",
    "result = remove(a)\n",
    "print(result)"
   ]
  },
  {
   "cell_type": "code",
   "execution_count": null,
   "metadata": {},
   "outputs": [],
   "source": [
    "#Write a Python program to change a given string to a newly string where the first and last chars have been exchanged\n",
    "\n",
    "def modify(a):\n",
    "    b = a[-1]\n",
    "    c = a[0]\n",
    "    return b + a[1:-1] + c\n",
    "\n",
    "a = input('enter string:')\n",
    "result = modify(a)\n",
    "print(result)\n"
   ]
  },
  {
   "cell_type": "code",
   "execution_count": null,
   "metadata": {},
   "outputs": [],
   "source": [
    "#Write a Python program to remove characters that have odd index values in a given string.\n",
    "\n",
    "def modify(a):\n",
    "    return a[0] + a[1::2]\n",
    "\n",
    "a = input('enter string:')\n",
    "print(a)\n",
    "result = modify(a)\n",
    "print(result)"
   ]
  },
  {
   "cell_type": "code",
   "execution_count": null,
   "metadata": {},
   "outputs": [],
   "source": [
    "#Write a Python program to count the occurrences of each word in a given sentence.\n",
    "\n",
    "def modify(a):\n",
    "    count = dict()\n",
    "    words = a.split()\n",
    "    for word in words:\n",
    "        if word in count:\n",
    "            count[word] += 1\n",
    "        else:\n",
    "            count[word] = 1\n",
    "    return count\n",
    "\n",
    "a = input('enter string:')\n",
    "print(a)\n",
    "result = modify(a)\n",
    "print(result)\n",
    "\n"
   ]
  },
  {
   "cell_type": "code",
   "execution_count": null,
   "metadata": {},
   "outputs": [],
   "source": [
    "#Write a Python script that takes input from the user and displays that input back in upper and lower cases.\n",
    "\n",
    "def modify(s):\n",
    "    print(s.upper())\n",
    "    print(s.lower())\n",
    "\n",
    "a = input('enter string:')\n",
    "print(a)\n",
    "result = modify(a)\n",
    "\n"
   ]
  },
  {
   "cell_type": "code",
   "execution_count": null,
   "metadata": {},
   "outputs": [],
   "source": [
    "#Write a Python program that accepts a comma-separated sequence of words as input and prints the distinct words in sorted form (alphanumerically)\n",
    "\n",
    "def modify(s):\n",
    "    words = [word for word in s.split(',')]\n",
    "    return sorted(list(set(words)))\n",
    "\n",
    "a = input('enter string:')\n",
    "print(a)\n",
    "result = modify(a)\n",
    "print(','.join(result))"
   ]
  },
  {
   "cell_type": "code",
   "execution_count": null,
   "metadata": {},
   "outputs": [],
   "source": [
    "#Write a Python function to create an HTML string with tags around the word(s).\n",
    "\n",
    "def htm(s,t):\n",
    "    a = print(f'<{t}>{s}</{t}>')\n",
    "    return a\n",
    "\n",
    "htm('yash','i')"
   ]
  },
  {
   "cell_type": "code",
   "execution_count": null,
   "metadata": {},
   "outputs": [],
   "source": [
    "#Write a Python function to insert a string in the middle of a string.\n",
    "\n",
    "def insert(t,s):\n",
    "    return t[:2] + s + t[2:]\n",
    "\n",
    "insert('[{}]','python')"
   ]
  },
  {
   "cell_type": "code",
   "execution_count": null,
   "metadata": {},
   "outputs": [],
   "source": [
    "#Write a Python function to get a string made of 4 copies of the last two characters of a specified string (length must be at least 2).\n",
    "\n",
    "def modify(s):\n",
    "    if len(s)>1:\n",
    "        return 4*s[-2:]\n",
    "    \n",
    "modify('yash')"
   ]
  },
  {
   "cell_type": "code",
   "execution_count": null,
   "metadata": {},
   "outputs": [],
   "source": [
    "#Write a Python function to get a string made of the first three characters of a specified string. If the length of the string is less than 3, return the original string.\n",
    "\n",
    "def modify(s):\n",
    "    if len(s)>2:\n",
    "        return s[0:3]\n",
    "    return s\n",
    "    \n",
    "modify('yash')"
   ]
  },
  {
   "cell_type": "code",
   "execution_count": null,
   "metadata": {},
   "outputs": [],
   "source": [
    "#Write a Python program to get the last part of a string before a specified character.\n",
    "\n",
    "def modify(s):\n",
    "    print(s.rsplit('/',1)[0])\n",
    "    print(s.rsplit('-',1)[0])\n",
    "\n",
    "modify('https://chat.openai.com/c/d7be8256-48ef-4443-9c0e-4dcc8f8c7598')"
   ]
  },
  {
   "cell_type": "code",
   "execution_count": null,
   "metadata": {},
   "outputs": [],
   "source": [
    "#Write a Python function to reverse a string if its length is a multiple of 4.\n",
    "\n",
    "def modify(a):\n",
    "    if len(a)%4==0:\n",
    "        return a[-1::-1]\n",
    "    return a\n",
    "\n",
    "modify('yash]')"
   ]
  },
  {
   "cell_type": "code",
   "execution_count": null,
   "metadata": {},
   "outputs": [],
   "source": [
    "# Write a Python function to convert a given string to all uppercase if it contains at least 2 uppercase characters in the first 4 characters.\n",
    "\n",
    "def modify(s):\n",
    "    upper = sum(1 for char in s[0:4] if char.isupper())\n",
    "    if upper >=2:\n",
    "        return s.upper()\n",
    "    \n",
    "\n",
    "modify('YasH bindal')"
   ]
  },
  {
   "cell_type": "code",
   "execution_count": null,
   "metadata": {},
   "outputs": [],
   "source": [
    "#Write a Python program to sort a string lexicographically.\n",
    "\n",
    "def modify(s):\n",
    "    return sorted(sorted(s),key=str.upper)\n",
    "    # return sorted(s)\n",
    "\n",
    "modify('yaSh23')"
   ]
  },
  {
   "cell_type": "code",
   "execution_count": null,
   "metadata": {},
   "outputs": [],
   "source": [
    "#Write a Python program to remove a newline in Python\n",
    "\n",
    "s = 'python\\n'\n",
    "print(s)\n",
    "print(s.rstrip())\n"
   ]
  },
  {
   "cell_type": "code",
   "execution_count": null,
   "metadata": {},
   "outputs": [],
   "source": [
    "#Write a Python program to check whether a string starts with specified characters.\n",
    "\n",
    "def check(a):\n",
    "    a.startswith('-')\n",
    "    return True\n",
    "\n",
    "check('+yash')"
   ]
  },
  {
   "cell_type": "code",
   "execution_count": null,
   "metadata": {},
   "outputs": [],
   "source": [
    "#Write a Python program to create a Caesar encryption\n",
    "\n",
    "def encrypt(a,b):\n",
    "    out_text = []\n",
    "    upper = ['a', 'b', 'c', 'd', 'e', 'f', 'g', 'h', 'i', 'j', 'k', 'l', 'm', 'n', 'o', 'p', 'q', 'r', 's', 't', 'u', 'v', 'w', 'x', 'y', 'z']\n",
    "    lower = ['A', 'B', 'C', 'D', 'E', 'F', 'G', 'H', 'I', 'J', 'K', 'L', 'M', 'N', 'O', 'P', 'Q', 'R', 'S', 'T', 'U', 'V', 'W', 'X', 'Y', 'Z']\n",
    "    c = list(a)\n",
    "    for i in c:\n",
    "        if i in upper:\n",
    "            index = upper.index(i)\n",
    "            crypt = (index + b) % 26\n",
    "            out_text.append(upper[crypt]) \n",
    "        elif i in lower:\n",
    "            index = lower.index(i)\n",
    "            crypt = (index + b) % 26\n",
    "            out_text.append(lower[crypt]) \n",
    "    return out_text\n",
    "\n",
    "encrypt('xyz',3)"
   ]
  },
  {
   "cell_type": "code",
   "execution_count": null,
   "metadata": {},
   "outputs": [],
   "source": [
    "#Write a Python program to display formatted text (width=50) as output.\n",
    "\n",
    "import textwrap\n",
    "\n",
    "sample_text = '''Python is a widely used high-level, general-purpose, interpreted,\n",
    "  dynamic programming language. Its design philosophy emphasizes\n",
    "  code readability, and its syntax allows programmers to express\n",
    "  concepts in fewer lines of code than possible in languages such\n",
    "  as C++ or Java.'''\n",
    "print(sample_text)\n",
    "print(textwrap.fill(sample_text,width = 50))"
   ]
  },
  {
   "cell_type": "code",
   "execution_count": null,
   "metadata": {},
   "outputs": [],
   "source": [
    "#Write a Python program to remove existing indentation from all of the lines in a given text.\n",
    "\n",
    "import textwrap\n",
    "\n",
    "sample_text = '''\n",
    "  Python is a widely used high-level, general-purpose, interpreted,\n",
    "  dynamic programming language. Its design philosophy emphasizes\n",
    "  code readability, and its syntax allows programmers to express\n",
    "  concepts in fewer lines of code than possible in languages such\n",
    "  as C++ or Java.\n",
    "  '''\n",
    "print(sample_text)\n",
    "print(textwrap.dedent(sample_text))"
   ]
  },
  {
   "cell_type": "code",
   "execution_count": null,
   "metadata": {},
   "outputs": [],
   "source": []
  }
 ],
 "metadata": {
  "kernelspec": {
   "display_name": "Python 3",
   "language": "python",
   "name": "python3"
  },
  "language_info": {
   "codemirror_mode": {
    "name": "ipython",
    "version": 3
   },
   "file_extension": ".py",
   "mimetype": "text/x-python",
   "name": "python",
   "nbconvert_exporter": "python",
   "pygments_lexer": "ipython3",
   "version": "3.12.2"
  }
 },
 "nbformat": 4,
 "nbformat_minor": 2
}
